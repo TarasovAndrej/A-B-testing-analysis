{
 "cells": [
  {
   "cell_type": "markdown",
   "id": "3da8e211",
   "metadata": {},
   "source": [
    "Команда внедрила в приложение умную систему рекомендации товаров – предполагается, что такая система поможет пользователям эффективнее работать с приложением и лучше находить необходимые товары.\n",
    "\n",
    "Чтобы проверить эффективность системы рекомендаций, был проведен АБ-тест. В группе 1 оказались пользователи с новой системой рекомендаций, в группе 0 пользователи со старой версией приложения, где нет рекомендации товаров.\n",
    "\n",
    "Задача – оценить, смогла ли новая система рекомендаций принести пользу бизнесу и пользователям приложения. Для этого нужно выбрать метрики, которые отвечают за качество сервиса, и статистически сравнить эти метрики в двух группах."
   ]
  },
  {
   "cell_type": "code",
   "execution_count": 109,
   "id": "704fc477",
   "metadata": {},
   "outputs": [],
   "source": [
    "import pandas as pd\n",
    "import numpy as np\n",
    "import seaborn as sns\n",
    "import matplotlib.pyplot as plt\n",
    "from scipy import stats\n",
    "from scipy.stats import bootstrap"
   ]
  },
  {
   "cell_type": "markdown",
   "id": "5255293c",
   "metadata": {},
   "source": [
    "Смотрим на данные, которые у нас есть, и делаем их предобработку."
   ]
  },
  {
   "cell_type": "code",
   "execution_count": 2,
   "id": "83b4ddc5",
   "metadata": {},
   "outputs": [
    {
     "data": {
      "text/html": [
       "<div>\n",
       "<style scoped>\n",
       "    .dataframe tbody tr th:only-of-type {\n",
       "        vertical-align: middle;\n",
       "    }\n",
       "\n",
       "    .dataframe tbody tr th {\n",
       "        vertical-align: top;\n",
       "    }\n",
       "\n",
       "    .dataframe thead th {\n",
       "        text-align: right;\n",
       "    }\n",
       "</style>\n",
       "<table border=\"1\" class=\"dataframe\">\n",
       "  <thead>\n",
       "    <tr style=\"text-align: right;\">\n",
       "      <th></th>\n",
       "      <th>order_id</th>\n",
       "      <th>creation_time</th>\n",
       "      <th>product_ids</th>\n",
       "    </tr>\n",
       "  </thead>\n",
       "  <tbody>\n",
       "    <tr>\n",
       "      <th>0</th>\n",
       "      <td>1255</td>\n",
       "      <td>2022-08-26 00:00:19.000000</td>\n",
       "      <td>{75, 22, 53, 84}</td>\n",
       "    </tr>\n",
       "    <tr>\n",
       "      <th>1</th>\n",
       "      <td>1256</td>\n",
       "      <td>2022-08-26 00:02:21.000000</td>\n",
       "      <td>{56, 76, 39}</td>\n",
       "    </tr>\n",
       "    <tr>\n",
       "      <th>2</th>\n",
       "      <td>1257</td>\n",
       "      <td>2022-08-26 00:02:27.000000</td>\n",
       "      <td>{76, 34, 41, 38}</td>\n",
       "    </tr>\n",
       "    <tr>\n",
       "      <th>3</th>\n",
       "      <td>1258</td>\n",
       "      <td>2022-08-26 00:02:56.000000</td>\n",
       "      <td>{74, 6}</td>\n",
       "    </tr>\n",
       "    <tr>\n",
       "      <th>4</th>\n",
       "      <td>1259</td>\n",
       "      <td>2022-08-26 00:03:37.000000</td>\n",
       "      <td>{20, 45, 67, 26}</td>\n",
       "    </tr>\n",
       "  </tbody>\n",
       "</table>\n",
       "</div>"
      ],
      "text/plain": [
       "   order_id               creation_time       product_ids\n",
       "0      1255  2022-08-26 00:00:19.000000  {75, 22, 53, 84}\n",
       "1      1256  2022-08-26 00:02:21.000000      {56, 76, 39}\n",
       "2      1257  2022-08-26 00:02:27.000000  {76, 34, 41, 38}\n",
       "3      1258  2022-08-26 00:02:56.000000           {74, 6}\n",
       "4      1259  2022-08-26 00:03:37.000000  {20, 45, 67, 26}"
      ]
     },
     "execution_count": 2,
     "metadata": {},
     "output_type": "execute_result"
    }
   ],
   "source": [
    "orders = pd.read_csv('ab_orders.csv')\n",
    "orders.head()"
   ]
  },
  {
   "cell_type": "code",
   "execution_count": 13,
   "id": "8f08473f",
   "metadata": {},
   "outputs": [
    {
     "data": {
      "text/html": [
       "<div>\n",
       "<style scoped>\n",
       "    .dataframe tbody tr th:only-of-type {\n",
       "        vertical-align: middle;\n",
       "    }\n",
       "\n",
       "    .dataframe tbody tr th {\n",
       "        vertical-align: top;\n",
       "    }\n",
       "\n",
       "    .dataframe thead th {\n",
       "        text-align: right;\n",
       "    }\n",
       "</style>\n",
       "<table border=\"1\" class=\"dataframe\">\n",
       "  <thead>\n",
       "    <tr style=\"text-align: right;\">\n",
       "      <th></th>\n",
       "      <th>order_id</th>\n",
       "      <th>creation_time</th>\n",
       "      <th>product_ids</th>\n",
       "    </tr>\n",
       "  </thead>\n",
       "  <tbody>\n",
       "    <tr>\n",
       "      <th>0</th>\n",
       "      <td>1255</td>\n",
       "      <td>2022-08-26 00:00:19.000000</td>\n",
       "      <td>[75, 22, 53, 84]</td>\n",
       "    </tr>\n",
       "    <tr>\n",
       "      <th>1</th>\n",
       "      <td>1256</td>\n",
       "      <td>2022-08-26 00:02:21.000000</td>\n",
       "      <td>[56, 76, 39]</td>\n",
       "    </tr>\n",
       "    <tr>\n",
       "      <th>2</th>\n",
       "      <td>1257</td>\n",
       "      <td>2022-08-26 00:02:27.000000</td>\n",
       "      <td>[76, 34, 41, 38]</td>\n",
       "    </tr>\n",
       "    <tr>\n",
       "      <th>3</th>\n",
       "      <td>1258</td>\n",
       "      <td>2022-08-26 00:02:56.000000</td>\n",
       "      <td>[74, 6]</td>\n",
       "    </tr>\n",
       "    <tr>\n",
       "      <th>4</th>\n",
       "      <td>1259</td>\n",
       "      <td>2022-08-26 00:03:37.000000</td>\n",
       "      <td>[20, 45, 67, 26]</td>\n",
       "    </tr>\n",
       "  </tbody>\n",
       "</table>\n",
       "</div>"
      ],
      "text/plain": [
       "   order_id               creation_time       product_ids\n",
       "0      1255  2022-08-26 00:00:19.000000  [75, 22, 53, 84]\n",
       "1      1256  2022-08-26 00:02:21.000000      [56, 76, 39]\n",
       "2      1257  2022-08-26 00:02:27.000000  [76, 34, 41, 38]\n",
       "3      1258  2022-08-26 00:02:56.000000           [74, 6]\n",
       "4      1259  2022-08-26 00:03:37.000000  [20, 45, 67, 26]"
      ]
     },
     "execution_count": 13,
     "metadata": {},
     "output_type": "execute_result"
    }
   ],
   "source": [
    "# для удобства преобразуем словарь в список product_ids\n",
    "orders.product_ids = orders.product_ids.apply(lambda x: x.replace('{','').replace('}','').split(', '))\n",
    "orders.head()"
   ]
  },
  {
   "cell_type": "code",
   "execution_count": 3,
   "id": "3ec28255",
   "metadata": {},
   "outputs": [
    {
     "data": {
      "text/html": [
       "<div>\n",
       "<style scoped>\n",
       "    .dataframe tbody tr th:only-of-type {\n",
       "        vertical-align: middle;\n",
       "    }\n",
       "\n",
       "    .dataframe tbody tr th {\n",
       "        vertical-align: top;\n",
       "    }\n",
       "\n",
       "    .dataframe thead th {\n",
       "        text-align: right;\n",
       "    }\n",
       "</style>\n",
       "<table border=\"1\" class=\"dataframe\">\n",
       "  <thead>\n",
       "    <tr style=\"text-align: right;\">\n",
       "      <th></th>\n",
       "      <th>product_id</th>\n",
       "      <th>name</th>\n",
       "      <th>price</th>\n",
       "    </tr>\n",
       "  </thead>\n",
       "  <tbody>\n",
       "    <tr>\n",
       "      <th>0</th>\n",
       "      <td>1</td>\n",
       "      <td>сахар</td>\n",
       "      <td>150.0</td>\n",
       "    </tr>\n",
       "    <tr>\n",
       "      <th>1</th>\n",
       "      <td>2</td>\n",
       "      <td>чай зеленый в пакетиках</td>\n",
       "      <td>50.0</td>\n",
       "    </tr>\n",
       "    <tr>\n",
       "      <th>2</th>\n",
       "      <td>3</td>\n",
       "      <td>вода негазированная</td>\n",
       "      <td>80.4</td>\n",
       "    </tr>\n",
       "    <tr>\n",
       "      <th>3</th>\n",
       "      <td>4</td>\n",
       "      <td>леденцы</td>\n",
       "      <td>45.5</td>\n",
       "    </tr>\n",
       "    <tr>\n",
       "      <th>4</th>\n",
       "      <td>5</td>\n",
       "      <td>кофе 3 в 1</td>\n",
       "      <td>15.0</td>\n",
       "    </tr>\n",
       "  </tbody>\n",
       "</table>\n",
       "</div>"
      ],
      "text/plain": [
       "   product_id                     name  price\n",
       "0           1                    сахар  150.0\n",
       "1           2  чай зеленый в пакетиках   50.0\n",
       "2           3      вода негазированная   80.4\n",
       "3           4                  леденцы   45.5\n",
       "4           5               кофе 3 в 1   15.0"
      ]
     },
     "execution_count": 3,
     "metadata": {},
     "output_type": "execute_result"
    }
   ],
   "source": [
    "products = pd.read_csv('ab_products.csv')\n",
    "products.head()"
   ]
  },
  {
   "cell_type": "code",
   "execution_count": 12,
   "id": "dd0ae7fc",
   "metadata": {},
   "outputs": [
    {
     "data": {
      "text/html": [
       "<div>\n",
       "<style scoped>\n",
       "    .dataframe tbody tr th:only-of-type {\n",
       "        vertical-align: middle;\n",
       "    }\n",
       "\n",
       "    .dataframe tbody tr th {\n",
       "        vertical-align: top;\n",
       "    }\n",
       "\n",
       "    .dataframe thead th {\n",
       "        text-align: right;\n",
       "    }\n",
       "</style>\n",
       "<table border=\"1\" class=\"dataframe\">\n",
       "  <thead>\n",
       "    <tr style=\"text-align: right;\">\n",
       "      <th></th>\n",
       "      <th>user_id</th>\n",
       "      <th>order_id</th>\n",
       "      <th>action</th>\n",
       "      <th>time</th>\n",
       "      <th>date</th>\n",
       "      <th>group</th>\n",
       "    </tr>\n",
       "  </thead>\n",
       "  <tbody>\n",
       "    <tr>\n",
       "      <th>0</th>\n",
       "      <td>964</td>\n",
       "      <td>1255</td>\n",
       "      <td>create_order</td>\n",
       "      <td>2022-08-26 00:00:19</td>\n",
       "      <td>2022-08-26</td>\n",
       "      <td>0</td>\n",
       "    </tr>\n",
       "    <tr>\n",
       "      <th>1</th>\n",
       "      <td>965</td>\n",
       "      <td>1256</td>\n",
       "      <td>create_order</td>\n",
       "      <td>2022-08-26 00:02:21</td>\n",
       "      <td>2022-08-26</td>\n",
       "      <td>1</td>\n",
       "    </tr>\n",
       "    <tr>\n",
       "      <th>2</th>\n",
       "      <td>964</td>\n",
       "      <td>1257</td>\n",
       "      <td>create_order</td>\n",
       "      <td>2022-08-26 00:02:27</td>\n",
       "      <td>2022-08-26</td>\n",
       "      <td>0</td>\n",
       "    </tr>\n",
       "    <tr>\n",
       "      <th>3</th>\n",
       "      <td>966</td>\n",
       "      <td>1258</td>\n",
       "      <td>create_order</td>\n",
       "      <td>2022-08-26 00:02:56</td>\n",
       "      <td>2022-08-26</td>\n",
       "      <td>0</td>\n",
       "    </tr>\n",
       "    <tr>\n",
       "      <th>4</th>\n",
       "      <td>967</td>\n",
       "      <td>1259</td>\n",
       "      <td>create_order</td>\n",
       "      <td>2022-08-26 00:03:37</td>\n",
       "      <td>2022-08-26</td>\n",
       "      <td>1</td>\n",
       "    </tr>\n",
       "  </tbody>\n",
       "</table>\n",
       "</div>"
      ],
      "text/plain": [
       "   user_id  order_id        action                time       date  group\n",
       "0      964      1255  create_order 2022-08-26 00:00:19 2022-08-26      0\n",
       "1      965      1256  create_order 2022-08-26 00:02:21 2022-08-26      1\n",
       "2      964      1257  create_order 2022-08-26 00:02:27 2022-08-26      0\n",
       "3      966      1258  create_order 2022-08-26 00:02:56 2022-08-26      0\n",
       "4      967      1259  create_order 2022-08-26 00:03:37 2022-08-26      1"
      ]
     },
     "execution_count": 12,
     "metadata": {},
     "output_type": "execute_result"
    }
   ],
   "source": [
    "users = pd.read_csv('ab_users_data.csv', parse_dates=['time', 'date'])\n",
    "users.head()"
   ]
  },
  {
   "cell_type": "code",
   "execution_count": 14,
   "id": "fc13629a",
   "metadata": {},
   "outputs": [
    {
     "name": "stdout",
     "output_type": "stream",
     "text": [
      "<class 'pandas.core.frame.DataFrame'>\n",
      "RangeIndex: 4337 entries, 0 to 4336\n",
      "Data columns (total 6 columns):\n",
      " #   Column    Non-Null Count  Dtype         \n",
      "---  ------    --------------  -----         \n",
      " 0   user_id   4337 non-null   int64         \n",
      " 1   order_id  4337 non-null   int64         \n",
      " 2   action    4337 non-null   object        \n",
      " 3   time      4337 non-null   datetime64[ns]\n",
      " 4   date      4337 non-null   datetime64[ns]\n",
      " 5   group     4337 non-null   int64         \n",
      "dtypes: datetime64[ns](2), int64(3), object(1)\n",
      "memory usage: 203.4+ KB\n"
     ]
    }
   ],
   "source": [
    "users.info()"
   ]
  },
  {
   "cell_type": "code",
   "execution_count": 20,
   "id": "9bb2a8ff",
   "metadata": {},
   "outputs": [
    {
     "data": {
      "text/plain": [
       "user_id          0\n",
       "order_id         0\n",
       "action           0\n",
       "time             0\n",
       "date             0\n",
       "group            0\n",
       "creation_time    0\n",
       "product_ids      0\n",
       "dtype: int64"
      ]
     },
     "execution_count": 20,
     "metadata": {},
     "output_type": "execute_result"
    }
   ],
   "source": [
    "# объединим две таблицы users и orders\n",
    "users_orders = users.merge(orders, on='order_id')\n",
    "users_orders.isna().sum()"
   ]
  },
  {
   "cell_type": "code",
   "execution_count": 21,
   "id": "dc23ffeb",
   "metadata": {},
   "outputs": [
    {
     "data": {
      "text/html": [
       "<div>\n",
       "<style scoped>\n",
       "    .dataframe tbody tr th:only-of-type {\n",
       "        vertical-align: middle;\n",
       "    }\n",
       "\n",
       "    .dataframe tbody tr th {\n",
       "        vertical-align: top;\n",
       "    }\n",
       "\n",
       "    .dataframe thead th {\n",
       "        text-align: right;\n",
       "    }\n",
       "</style>\n",
       "<table border=\"1\" class=\"dataframe\">\n",
       "  <thead>\n",
       "    <tr style=\"text-align: right;\">\n",
       "      <th></th>\n",
       "      <th>user_id</th>\n",
       "      <th>order_id</th>\n",
       "      <th>action</th>\n",
       "      <th>time</th>\n",
       "      <th>date</th>\n",
       "      <th>group</th>\n",
       "      <th>creation_time</th>\n",
       "      <th>product_ids</th>\n",
       "    </tr>\n",
       "  </thead>\n",
       "  <tbody>\n",
       "    <tr>\n",
       "      <th>0</th>\n",
       "      <td>964</td>\n",
       "      <td>1255</td>\n",
       "      <td>create_order</td>\n",
       "      <td>2022-08-26 00:00:19.000000</td>\n",
       "      <td>2022-08-26</td>\n",
       "      <td>0</td>\n",
       "      <td>2022-08-26 00:00:19.000000</td>\n",
       "      <td>[75, 22, 53, 84]</td>\n",
       "    </tr>\n",
       "    <tr>\n",
       "      <th>1</th>\n",
       "      <td>965</td>\n",
       "      <td>1256</td>\n",
       "      <td>create_order</td>\n",
       "      <td>2022-08-26 00:02:21.000000</td>\n",
       "      <td>2022-08-26</td>\n",
       "      <td>1</td>\n",
       "      <td>2022-08-26 00:02:21.000000</td>\n",
       "      <td>[56, 76, 39]</td>\n",
       "    </tr>\n",
       "    <tr>\n",
       "      <th>2</th>\n",
       "      <td>964</td>\n",
       "      <td>1257</td>\n",
       "      <td>create_order</td>\n",
       "      <td>2022-08-26 00:02:27.000000</td>\n",
       "      <td>2022-08-26</td>\n",
       "      <td>0</td>\n",
       "      <td>2022-08-26 00:02:27.000000</td>\n",
       "      <td>[76, 34, 41, 38]</td>\n",
       "    </tr>\n",
       "    <tr>\n",
       "      <th>3</th>\n",
       "      <td>966</td>\n",
       "      <td>1258</td>\n",
       "      <td>create_order</td>\n",
       "      <td>2022-08-26 00:02:56.000000</td>\n",
       "      <td>2022-08-26</td>\n",
       "      <td>0</td>\n",
       "      <td>2022-08-26 00:02:56.000000</td>\n",
       "      <td>[74, 6]</td>\n",
       "    </tr>\n",
       "    <tr>\n",
       "      <th>4</th>\n",
       "      <td>966</td>\n",
       "      <td>1258</td>\n",
       "      <td>cancel_order</td>\n",
       "      <td>2022-08-26 00:08:25.486419</td>\n",
       "      <td>2022-08-26</td>\n",
       "      <td>0</td>\n",
       "      <td>2022-08-26 00:02:56.000000</td>\n",
       "      <td>[74, 6]</td>\n",
       "    </tr>\n",
       "    <tr>\n",
       "      <th>5</th>\n",
       "      <td>967</td>\n",
       "      <td>1259</td>\n",
       "      <td>create_order</td>\n",
       "      <td>2022-08-26 00:03:37.000000</td>\n",
       "      <td>2022-08-26</td>\n",
       "      <td>1</td>\n",
       "      <td>2022-08-26 00:03:37.000000</td>\n",
       "      <td>[20, 45, 67, 26]</td>\n",
       "    </tr>\n",
       "    <tr>\n",
       "      <th>6</th>\n",
       "      <td>968</td>\n",
       "      <td>1261</td>\n",
       "      <td>create_order</td>\n",
       "      <td>2022-08-26 00:05:35.000000</td>\n",
       "      <td>2022-08-26</td>\n",
       "      <td>0</td>\n",
       "      <td>2022-08-26 00:05:35.000000</td>\n",
       "      <td>[30, 35, 69, 6]</td>\n",
       "    </tr>\n",
       "    <tr>\n",
       "      <th>7</th>\n",
       "      <td>969</td>\n",
       "      <td>1262</td>\n",
       "      <td>create_order</td>\n",
       "      <td>2022-08-26 00:06:25.000000</td>\n",
       "      <td>2022-08-26</td>\n",
       "      <td>0</td>\n",
       "      <td>2022-08-26 00:06:25.000000</td>\n",
       "      <td>[23, 69, 45, 33]</td>\n",
       "    </tr>\n",
       "    <tr>\n",
       "      <th>8</th>\n",
       "      <td>970</td>\n",
       "      <td>1263</td>\n",
       "      <td>create_order</td>\n",
       "      <td>2022-08-26 00:08:22.000000</td>\n",
       "      <td>2022-08-26</td>\n",
       "      <td>1</td>\n",
       "      <td>2022-08-26 00:08:22.000000</td>\n",
       "      <td>[22, 23, 5]</td>\n",
       "    </tr>\n",
       "    <tr>\n",
       "      <th>9</th>\n",
       "      <td>971</td>\n",
       "      <td>1264</td>\n",
       "      <td>create_order</td>\n",
       "      <td>2022-08-26 00:10:53.000000</td>\n",
       "      <td>2022-08-26</td>\n",
       "      <td>1</td>\n",
       "      <td>2022-08-26 00:10:53.000000</td>\n",
       "      <td>[60, 5, 33, 69]</td>\n",
       "    </tr>\n",
       "  </tbody>\n",
       "</table>\n",
       "</div>"
      ],
      "text/plain": [
       "   user_id  order_id        action                       time       date  \\\n",
       "0      964      1255  create_order 2022-08-26 00:00:19.000000 2022-08-26   \n",
       "1      965      1256  create_order 2022-08-26 00:02:21.000000 2022-08-26   \n",
       "2      964      1257  create_order 2022-08-26 00:02:27.000000 2022-08-26   \n",
       "3      966      1258  create_order 2022-08-26 00:02:56.000000 2022-08-26   \n",
       "4      966      1258  cancel_order 2022-08-26 00:08:25.486419 2022-08-26   \n",
       "5      967      1259  create_order 2022-08-26 00:03:37.000000 2022-08-26   \n",
       "6      968      1261  create_order 2022-08-26 00:05:35.000000 2022-08-26   \n",
       "7      969      1262  create_order 2022-08-26 00:06:25.000000 2022-08-26   \n",
       "8      970      1263  create_order 2022-08-26 00:08:22.000000 2022-08-26   \n",
       "9      971      1264  create_order 2022-08-26 00:10:53.000000 2022-08-26   \n",
       "\n",
       "   group               creation_time       product_ids  \n",
       "0      0  2022-08-26 00:00:19.000000  [75, 22, 53, 84]  \n",
       "1      1  2022-08-26 00:02:21.000000      [56, 76, 39]  \n",
       "2      0  2022-08-26 00:02:27.000000  [76, 34, 41, 38]  \n",
       "3      0  2022-08-26 00:02:56.000000           [74, 6]  \n",
       "4      0  2022-08-26 00:02:56.000000           [74, 6]  \n",
       "5      1  2022-08-26 00:03:37.000000  [20, 45, 67, 26]  \n",
       "6      0  2022-08-26 00:05:35.000000   [30, 35, 69, 6]  \n",
       "7      0  2022-08-26 00:06:25.000000  [23, 69, 45, 33]  \n",
       "8      1  2022-08-26 00:08:22.000000       [22, 23, 5]  \n",
       "9      1  2022-08-26 00:10:53.000000   [60, 5, 33, 69]  "
      ]
     },
     "execution_count": 21,
     "metadata": {},
     "output_type": "execute_result"
    }
   ],
   "source": [
    "users_orders.head(10)"
   ]
  },
  {
   "cell_type": "code",
   "execution_count": 24,
   "id": "a5e78af3",
   "metadata": {},
   "outputs": [
    {
     "data": {
      "text/plain": [
       "create_order    4123\n",
       "cancel_order     214\n",
       "Name: action, dtype: int64"
      ]
     },
     "execution_count": 24,
     "metadata": {},
     "output_type": "execute_result"
    }
   ],
   "source": [
    "# сколько отмененных заказов\n",
    "users_orders.action.value_counts()"
   ]
  },
  {
   "cell_type": "code",
   "execution_count": 25,
   "id": "3efff3bc",
   "metadata": {},
   "outputs": [],
   "source": [
    "# у нас есть отменные заказы, поэтому исключим их \n",
    "users_orders = users_orders.query(\"action != 'cancel_order'\")"
   ]
  },
  {
   "cell_type": "code",
   "execution_count": 26,
   "id": "b5c5b049",
   "metadata": {},
   "outputs": [
    {
     "data": {
      "text/plain": [
       "create_order    4123\n",
       "Name: action, dtype: int64"
      ]
     },
     "execution_count": 26,
     "metadata": {},
     "output_type": "execute_result"
    }
   ],
   "source": [
    "users_orders.action.value_counts()"
   ]
  },
  {
   "cell_type": "markdown",
   "id": "b412bf9e",
   "metadata": {},
   "source": [
    "Я думаю, что в качестве одного из показателей нам может понадобиться количество купленных товаров. Поэтому добавим новый столбец, где будет указано количество товаров в заказе."
   ]
  },
  {
   "cell_type": "code",
   "execution_count": 30,
   "id": "779839f0",
   "metadata": {},
   "outputs": [
    {
     "data": {
      "text/html": [
       "<div>\n",
       "<style scoped>\n",
       "    .dataframe tbody tr th:only-of-type {\n",
       "        vertical-align: middle;\n",
       "    }\n",
       "\n",
       "    .dataframe tbody tr th {\n",
       "        vertical-align: top;\n",
       "    }\n",
       "\n",
       "    .dataframe thead th {\n",
       "        text-align: right;\n",
       "    }\n",
       "</style>\n",
       "<table border=\"1\" class=\"dataframe\">\n",
       "  <thead>\n",
       "    <tr style=\"text-align: right;\">\n",
       "      <th></th>\n",
       "      <th>user_id</th>\n",
       "      <th>order_id</th>\n",
       "      <th>action</th>\n",
       "      <th>time</th>\n",
       "      <th>date</th>\n",
       "      <th>group</th>\n",
       "      <th>creation_time</th>\n",
       "      <th>product_ids</th>\n",
       "      <th>quantity_products</th>\n",
       "    </tr>\n",
       "  </thead>\n",
       "  <tbody>\n",
       "    <tr>\n",
       "      <th>0</th>\n",
       "      <td>964</td>\n",
       "      <td>1255</td>\n",
       "      <td>create_order</td>\n",
       "      <td>2022-08-26 00:00:19</td>\n",
       "      <td>2022-08-26</td>\n",
       "      <td>0</td>\n",
       "      <td>2022-08-26 00:00:19.000000</td>\n",
       "      <td>[75, 22, 53, 84]</td>\n",
       "      <td>4</td>\n",
       "    </tr>\n",
       "    <tr>\n",
       "      <th>1</th>\n",
       "      <td>965</td>\n",
       "      <td>1256</td>\n",
       "      <td>create_order</td>\n",
       "      <td>2022-08-26 00:02:21</td>\n",
       "      <td>2022-08-26</td>\n",
       "      <td>1</td>\n",
       "      <td>2022-08-26 00:02:21.000000</td>\n",
       "      <td>[56, 76, 39]</td>\n",
       "      <td>3</td>\n",
       "    </tr>\n",
       "    <tr>\n",
       "      <th>2</th>\n",
       "      <td>964</td>\n",
       "      <td>1257</td>\n",
       "      <td>create_order</td>\n",
       "      <td>2022-08-26 00:02:27</td>\n",
       "      <td>2022-08-26</td>\n",
       "      <td>0</td>\n",
       "      <td>2022-08-26 00:02:27.000000</td>\n",
       "      <td>[76, 34, 41, 38]</td>\n",
       "      <td>4</td>\n",
       "    </tr>\n",
       "    <tr>\n",
       "      <th>3</th>\n",
       "      <td>966</td>\n",
       "      <td>1258</td>\n",
       "      <td>create_order</td>\n",
       "      <td>2022-08-26 00:02:56</td>\n",
       "      <td>2022-08-26</td>\n",
       "      <td>0</td>\n",
       "      <td>2022-08-26 00:02:56.000000</td>\n",
       "      <td>[74, 6]</td>\n",
       "      <td>2</td>\n",
       "    </tr>\n",
       "    <tr>\n",
       "      <th>5</th>\n",
       "      <td>967</td>\n",
       "      <td>1259</td>\n",
       "      <td>create_order</td>\n",
       "      <td>2022-08-26 00:03:37</td>\n",
       "      <td>2022-08-26</td>\n",
       "      <td>1</td>\n",
       "      <td>2022-08-26 00:03:37.000000</td>\n",
       "      <td>[20, 45, 67, 26]</td>\n",
       "      <td>4</td>\n",
       "    </tr>\n",
       "  </tbody>\n",
       "</table>\n",
       "</div>"
      ],
      "text/plain": [
       "   user_id  order_id        action                time       date  group  \\\n",
       "0      964      1255  create_order 2022-08-26 00:00:19 2022-08-26      0   \n",
       "1      965      1256  create_order 2022-08-26 00:02:21 2022-08-26      1   \n",
       "2      964      1257  create_order 2022-08-26 00:02:27 2022-08-26      0   \n",
       "3      966      1258  create_order 2022-08-26 00:02:56 2022-08-26      0   \n",
       "5      967      1259  create_order 2022-08-26 00:03:37 2022-08-26      1   \n",
       "\n",
       "                creation_time       product_ids  quantity_products  \n",
       "0  2022-08-26 00:00:19.000000  [75, 22, 53, 84]                  4  \n",
       "1  2022-08-26 00:02:21.000000      [56, 76, 39]                  3  \n",
       "2  2022-08-26 00:02:27.000000  [76, 34, 41, 38]                  4  \n",
       "3  2022-08-26 00:02:56.000000           [74, 6]                  2  \n",
       "5  2022-08-26 00:03:37.000000  [20, 45, 67, 26]                  4  "
      ]
     },
     "execution_count": 30,
     "metadata": {},
     "output_type": "execute_result"
    }
   ],
   "source": [
    "users_orders['quantity_products'] = users_orders.product_ids.apply(lambda x: len(x))\n",
    "users_orders.head()"
   ]
  },
  {
   "cell_type": "code",
   "execution_count": 32,
   "id": "d3a0068b",
   "metadata": {},
   "outputs": [],
   "source": [
    "# так как у нас есть стоимость товара, делаем предобразование в список product_id и price и делаем словарь \n",
    "product_ids = products.product_id.to_list()\n",
    "product_prices = products.price.to_list()\n",
    "dict_product = dict(zip(product_ids,product_prices))"
   ]
  },
  {
   "cell_type": "code",
   "execution_count": 50,
   "id": "4c6ebcb2",
   "metadata": {},
   "outputs": [],
   "source": [
    "# Функция для извлечения списка стоимости товаров по списку product_id \n",
    "\n",
    "def return_price(products_id, dict_product):\n",
    "    price = []\n",
    "    for i in products_id:\n",
    "        price.append(dict_product[int(i)])\n",
    "    return price\n"
   ]
  },
  {
   "cell_type": "code",
   "execution_count": 51,
   "id": "ba25c414",
   "metadata": {},
   "outputs": [
    {
     "data": {
      "text/html": [
       "<div>\n",
       "<style scoped>\n",
       "    .dataframe tbody tr th:only-of-type {\n",
       "        vertical-align: middle;\n",
       "    }\n",
       "\n",
       "    .dataframe tbody tr th {\n",
       "        vertical-align: top;\n",
       "    }\n",
       "\n",
       "    .dataframe thead th {\n",
       "        text-align: right;\n",
       "    }\n",
       "</style>\n",
       "<table border=\"1\" class=\"dataframe\">\n",
       "  <thead>\n",
       "    <tr style=\"text-align: right;\">\n",
       "      <th></th>\n",
       "      <th>user_id</th>\n",
       "      <th>order_id</th>\n",
       "      <th>action</th>\n",
       "      <th>time</th>\n",
       "      <th>date</th>\n",
       "      <th>group</th>\n",
       "      <th>creation_time</th>\n",
       "      <th>product_ids</th>\n",
       "      <th>quantity_products</th>\n",
       "      <th>product_prices</th>\n",
       "      <th>order_price</th>\n",
       "    </tr>\n",
       "  </thead>\n",
       "  <tbody>\n",
       "    <tr>\n",
       "      <th>0</th>\n",
       "      <td>964</td>\n",
       "      <td>1255</td>\n",
       "      <td>create_order</td>\n",
       "      <td>2022-08-26 00:00:19</td>\n",
       "      <td>2022-08-26</td>\n",
       "      <td>0</td>\n",
       "      <td>2022-08-26 00:00:19.000000</td>\n",
       "      <td>[75, 22, 53, 84]</td>\n",
       "      <td>4</td>\n",
       "      <td>[120.0, 120.0, 78.3, 90.4]</td>\n",
       "      <td>408.7</td>\n",
       "    </tr>\n",
       "    <tr>\n",
       "      <th>1</th>\n",
       "      <td>965</td>\n",
       "      <td>1256</td>\n",
       "      <td>create_order</td>\n",
       "      <td>2022-08-26 00:02:21</td>\n",
       "      <td>2022-08-26</td>\n",
       "      <td>1</td>\n",
       "      <td>2022-08-26 00:02:21.000000</td>\n",
       "      <td>[56, 76, 39]</td>\n",
       "      <td>3</td>\n",
       "      <td>[150.0, 55.5, 45.0]</td>\n",
       "      <td>250.5</td>\n",
       "    </tr>\n",
       "    <tr>\n",
       "      <th>2</th>\n",
       "      <td>964</td>\n",
       "      <td>1257</td>\n",
       "      <td>create_order</td>\n",
       "      <td>2022-08-26 00:02:27</td>\n",
       "      <td>2022-08-26</td>\n",
       "      <td>0</td>\n",
       "      <td>2022-08-26 00:02:27.000000</td>\n",
       "      <td>[76, 34, 41, 38]</td>\n",
       "      <td>4</td>\n",
       "      <td>[55.5, 98.0, 80.4, 76.3]</td>\n",
       "      <td>310.2</td>\n",
       "    </tr>\n",
       "    <tr>\n",
       "      <th>3</th>\n",
       "      <td>966</td>\n",
       "      <td>1258</td>\n",
       "      <td>create_order</td>\n",
       "      <td>2022-08-26 00:02:56</td>\n",
       "      <td>2022-08-26</td>\n",
       "      <td>0</td>\n",
       "      <td>2022-08-26 00:02:56.000000</td>\n",
       "      <td>[74, 6]</td>\n",
       "      <td>2</td>\n",
       "      <td>[60.0, 25.0]</td>\n",
       "      <td>85.0</td>\n",
       "    </tr>\n",
       "    <tr>\n",
       "      <th>5</th>\n",
       "      <td>967</td>\n",
       "      <td>1259</td>\n",
       "      <td>create_order</td>\n",
       "      <td>2022-08-26 00:03:37</td>\n",
       "      <td>2022-08-26</td>\n",
       "      <td>1</td>\n",
       "      <td>2022-08-26 00:03:37.000000</td>\n",
       "      <td>[20, 45, 67, 26]</td>\n",
       "      <td>4</td>\n",
       "      <td>[50.0, 78.0, 30.0, 70.0]</td>\n",
       "      <td>228.0</td>\n",
       "    </tr>\n",
       "  </tbody>\n",
       "</table>\n",
       "</div>"
      ],
      "text/plain": [
       "   user_id  order_id        action                time       date  group  \\\n",
       "0      964      1255  create_order 2022-08-26 00:00:19 2022-08-26      0   \n",
       "1      965      1256  create_order 2022-08-26 00:02:21 2022-08-26      1   \n",
       "2      964      1257  create_order 2022-08-26 00:02:27 2022-08-26      0   \n",
       "3      966      1258  create_order 2022-08-26 00:02:56 2022-08-26      0   \n",
       "5      967      1259  create_order 2022-08-26 00:03:37 2022-08-26      1   \n",
       "\n",
       "                creation_time       product_ids  quantity_products  \\\n",
       "0  2022-08-26 00:00:19.000000  [75, 22, 53, 84]                  4   \n",
       "1  2022-08-26 00:02:21.000000      [56, 76, 39]                  3   \n",
       "2  2022-08-26 00:02:27.000000  [76, 34, 41, 38]                  4   \n",
       "3  2022-08-26 00:02:56.000000           [74, 6]                  2   \n",
       "5  2022-08-26 00:03:37.000000  [20, 45, 67, 26]                  4   \n",
       "\n",
       "               product_prices  order_price  \n",
       "0  [120.0, 120.0, 78.3, 90.4]        408.7  \n",
       "1         [150.0, 55.5, 45.0]        250.5  \n",
       "2    [55.5, 98.0, 80.4, 76.3]        310.2  \n",
       "3                [60.0, 25.0]         85.0  \n",
       "5    [50.0, 78.0, 30.0, 70.0]        228.0  "
      ]
     },
     "execution_count": 51,
     "metadata": {},
     "output_type": "execute_result"
    }
   ],
   "source": [
    "# добавляем столбец со стоимостью товаров в заказе\n",
    "users_orders['product_prices'] = users_orders.product_ids.apply(lambda x: return_price(x,dict_product))\n",
    "users_orders.head()"
   ]
  },
  {
   "cell_type": "code",
   "execution_count": 43,
   "id": "549ca252",
   "metadata": {},
   "outputs": [
    {
     "data": {
      "text/html": [
       "<div>\n",
       "<style scoped>\n",
       "    .dataframe tbody tr th:only-of-type {\n",
       "        vertical-align: middle;\n",
       "    }\n",
       "\n",
       "    .dataframe tbody tr th {\n",
       "        vertical-align: top;\n",
       "    }\n",
       "\n",
       "    .dataframe thead th {\n",
       "        text-align: right;\n",
       "    }\n",
       "</style>\n",
       "<table border=\"1\" class=\"dataframe\">\n",
       "  <thead>\n",
       "    <tr style=\"text-align: right;\">\n",
       "      <th></th>\n",
       "      <th>user_id</th>\n",
       "      <th>order_id</th>\n",
       "      <th>action</th>\n",
       "      <th>time</th>\n",
       "      <th>date</th>\n",
       "      <th>group</th>\n",
       "      <th>creation_time</th>\n",
       "      <th>product_ids</th>\n",
       "      <th>quantity_products</th>\n",
       "      <th>product_prices</th>\n",
       "      <th>order_price</th>\n",
       "    </tr>\n",
       "  </thead>\n",
       "  <tbody>\n",
       "    <tr>\n",
       "      <th>0</th>\n",
       "      <td>964</td>\n",
       "      <td>1255</td>\n",
       "      <td>create_order</td>\n",
       "      <td>2022-08-26 00:00:19</td>\n",
       "      <td>2022-08-26</td>\n",
       "      <td>0</td>\n",
       "      <td>2022-08-26 00:00:19.000000</td>\n",
       "      <td>[75, 22, 53, 84]</td>\n",
       "      <td>4</td>\n",
       "      <td>[120.0, 120.0, 78.3, 90.4]</td>\n",
       "      <td>408.7</td>\n",
       "    </tr>\n",
       "    <tr>\n",
       "      <th>1</th>\n",
       "      <td>965</td>\n",
       "      <td>1256</td>\n",
       "      <td>create_order</td>\n",
       "      <td>2022-08-26 00:02:21</td>\n",
       "      <td>2022-08-26</td>\n",
       "      <td>1</td>\n",
       "      <td>2022-08-26 00:02:21.000000</td>\n",
       "      <td>[56, 76, 39]</td>\n",
       "      <td>3</td>\n",
       "      <td>[150.0, 55.5, 45.0]</td>\n",
       "      <td>250.5</td>\n",
       "    </tr>\n",
       "    <tr>\n",
       "      <th>2</th>\n",
       "      <td>964</td>\n",
       "      <td>1257</td>\n",
       "      <td>create_order</td>\n",
       "      <td>2022-08-26 00:02:27</td>\n",
       "      <td>2022-08-26</td>\n",
       "      <td>0</td>\n",
       "      <td>2022-08-26 00:02:27.000000</td>\n",
       "      <td>[76, 34, 41, 38]</td>\n",
       "      <td>4</td>\n",
       "      <td>[55.5, 98.0, 80.4, 76.3]</td>\n",
       "      <td>310.2</td>\n",
       "    </tr>\n",
       "    <tr>\n",
       "      <th>3</th>\n",
       "      <td>966</td>\n",
       "      <td>1258</td>\n",
       "      <td>create_order</td>\n",
       "      <td>2022-08-26 00:02:56</td>\n",
       "      <td>2022-08-26</td>\n",
       "      <td>0</td>\n",
       "      <td>2022-08-26 00:02:56.000000</td>\n",
       "      <td>[74, 6]</td>\n",
       "      <td>2</td>\n",
       "      <td>[60.0, 25.0]</td>\n",
       "      <td>85.0</td>\n",
       "    </tr>\n",
       "    <tr>\n",
       "      <th>5</th>\n",
       "      <td>967</td>\n",
       "      <td>1259</td>\n",
       "      <td>create_order</td>\n",
       "      <td>2022-08-26 00:03:37</td>\n",
       "      <td>2022-08-26</td>\n",
       "      <td>1</td>\n",
       "      <td>2022-08-26 00:03:37.000000</td>\n",
       "      <td>[20, 45, 67, 26]</td>\n",
       "      <td>4</td>\n",
       "      <td>[50.0, 78.0, 30.0, 70.0]</td>\n",
       "      <td>228.0</td>\n",
       "    </tr>\n",
       "  </tbody>\n",
       "</table>\n",
       "</div>"
      ],
      "text/plain": [
       "   user_id  order_id        action                time       date  group  \\\n",
       "0      964      1255  create_order 2022-08-26 00:00:19 2022-08-26      0   \n",
       "1      965      1256  create_order 2022-08-26 00:02:21 2022-08-26      1   \n",
       "2      964      1257  create_order 2022-08-26 00:02:27 2022-08-26      0   \n",
       "3      966      1258  create_order 2022-08-26 00:02:56 2022-08-26      0   \n",
       "5      967      1259  create_order 2022-08-26 00:03:37 2022-08-26      1   \n",
       "\n",
       "                creation_time       product_ids  quantity_products  \\\n",
       "0  2022-08-26 00:00:19.000000  [75, 22, 53, 84]                  4   \n",
       "1  2022-08-26 00:02:21.000000      [56, 76, 39]                  3   \n",
       "2  2022-08-26 00:02:27.000000  [76, 34, 41, 38]                  4   \n",
       "3  2022-08-26 00:02:56.000000           [74, 6]                  2   \n",
       "5  2022-08-26 00:03:37.000000  [20, 45, 67, 26]                  4   \n",
       "\n",
       "               product_prices  order_price  \n",
       "0  [120.0, 120.0, 78.3, 90.4]        408.7  \n",
       "1         [150.0, 55.5, 45.0]        250.5  \n",
       "2    [55.5, 98.0, 80.4, 76.3]        310.2  \n",
       "3                [60.0, 25.0]         85.0  \n",
       "5    [50.0, 78.0, 30.0, 70.0]        228.0  "
      ]
     },
     "execution_count": 43,
     "metadata": {},
     "output_type": "execute_result"
    }
   ],
   "source": [
    "# еще сделаем новый столбец с общей стоимостью заказа\n",
    "users_orders['order_price'] = users_orders['product_prices'].apply(lambda x: sum(x))\n",
    "users_orders.head()"
   ]
  },
  {
   "cell_type": "code",
   "execution_count": 68,
   "id": "8a06b736",
   "metadata": {},
   "outputs": [
    {
     "name": "stdout",
     "output_type": "stream",
     "text": [
      "Количество пользователей =  515\n",
      "Количество заказаов = 1609\n"
     ]
    }
   ],
   "source": [
    "# отлично, теперь посмотрим сколько у нас пользователей в каждой группе и заказов\n",
    "control = users_orders.query('group == 0')\n",
    "print(\"Количество пользователей = \", control.user_id.nunique())\n",
    "print(\"Количество заказаов =\", control.order_id.count())"
   ]
  },
  {
   "cell_type": "code",
   "execution_count": 69,
   "id": "60e45642",
   "metadata": {},
   "outputs": [
    {
     "name": "stdout",
     "output_type": "stream",
     "text": [
      "Количество пользователей =  502\n",
      "Количество заказаов = 2514\n"
     ]
    }
   ],
   "source": [
    "test = users_orders.query('group == 1')\n",
    "print(\"Количество пользователей = \", test.user_id.nunique())\n",
    "print(\"Количество заказаов =\", test.order_id.count())"
   ]
  },
  {
   "cell_type": "code",
   "execution_count": 96,
   "id": "c9eb9ef1",
   "metadata": {},
   "outputs": [
    {
     "data": {
      "text/html": [
       "<div>\n",
       "<style scoped>\n",
       "    .dataframe tbody tr th:only-of-type {\n",
       "        vertical-align: middle;\n",
       "    }\n",
       "\n",
       "    .dataframe tbody tr th {\n",
       "        vertical-align: top;\n",
       "    }\n",
       "\n",
       "    .dataframe thead th {\n",
       "        text-align: right;\n",
       "    }\n",
       "</style>\n",
       "<table border=\"1\" class=\"dataframe\">\n",
       "  <thead>\n",
       "    <tr style=\"text-align: right;\">\n",
       "      <th></th>\n",
       "      <th>user_id</th>\n",
       "      <th>group</th>\n",
       "      <th>total_price</th>\n",
       "      <th>total_products</th>\n",
       "    </tr>\n",
       "  </thead>\n",
       "  <tbody>\n",
       "    <tr>\n",
       "      <th>0</th>\n",
       "      <td>964</td>\n",
       "      <td>0</td>\n",
       "      <td>718.9</td>\n",
       "      <td>8</td>\n",
       "    </tr>\n",
       "    <tr>\n",
       "      <th>1</th>\n",
       "      <td>965</td>\n",
       "      <td>1</td>\n",
       "      <td>4155.5</td>\n",
       "      <td>33</td>\n",
       "    </tr>\n",
       "    <tr>\n",
       "      <th>2</th>\n",
       "      <td>966</td>\n",
       "      <td>0</td>\n",
       "      <td>85.0</td>\n",
       "      <td>2</td>\n",
       "    </tr>\n",
       "    <tr>\n",
       "      <th>3</th>\n",
       "      <td>967</td>\n",
       "      <td>1</td>\n",
       "      <td>1137.4</td>\n",
       "      <td>18</td>\n",
       "    </tr>\n",
       "    <tr>\n",
       "      <th>4</th>\n",
       "      <td>968</td>\n",
       "      <td>0</td>\n",
       "      <td>1590.7</td>\n",
       "      <td>11</td>\n",
       "    </tr>\n",
       "  </tbody>\n",
       "</table>\n",
       "</div>"
      ],
      "text/plain": [
       "   user_id  group  total_price  total_products\n",
       "0      964      0        718.9               8\n",
       "1      965      1       4155.5              33\n",
       "2      966      0         85.0               2\n",
       "3      967      1       1137.4              18\n",
       "4      968      0       1590.7              11"
      ]
     },
     "execution_count": 96,
     "metadata": {},
     "output_type": "execute_result"
    }
   ],
   "source": [
    "# теперь посмотрим на распределение наших метрик, сгруппировав по группам стоимость заказа и количество заказов.\n",
    "users_orders_upd = users_orders \\\n",
    "                        .groupby(['user_id','group'], as_index=False) \\\n",
    "                        .agg({'order_price':'sum','quantity_products':'sum'}) \\\n",
    "                        .rename(columns={'order_price':'total_price','quantity_products':'total_products'})\n",
    "users_orders_upd.head()"
   ]
  },
  {
   "cell_type": "code",
   "execution_count": 99,
   "id": "8aa3164c",
   "metadata": {
    "scrolled": true
   },
   "outputs": [
    {
     "data": {
      "text/plain": [
       "count     515.000000\n",
       "mean     1191.240388\n",
       "std       829.633729\n",
       "min        25.000000\n",
       "25%       605.250000\n",
       "50%       999.400000\n",
       "75%      1553.200000\n",
       "max      5589.800000\n",
       "Name: total_price, dtype: float64"
      ]
     },
     "execution_count": 99,
     "metadata": {},
     "output_type": "execute_result"
    }
   ],
   "source": [
    "users_orders_upd.query('group == 0').total_price.describe()"
   ]
  },
  {
   "cell_type": "code",
   "execution_count": 100,
   "id": "c7267996",
   "metadata": {},
   "outputs": [
    {
     "data": {
      "text/plain": [
       "count     502.000000\n",
       "mean     1851.059761\n",
       "std       953.669817\n",
       "min        83.500000\n",
       "25%      1191.725000\n",
       "50%      1710.300000\n",
       "75%      2435.975000\n",
       "max      4742.200000\n",
       "Name: total_price, dtype: float64"
      ]
     },
     "execution_count": 100,
     "metadata": {},
     "output_type": "execute_result"
    }
   ],
   "source": [
    "users_orders_upd.query('group == 1').total_price.describe()"
   ]
  },
  {
   "cell_type": "code",
   "execution_count": 134,
   "id": "02fc8ce6",
   "metadata": {},
   "outputs": [
    {
     "data": {
      "image/png": "[encoded data removed]",
      "text/plain": [
       "<Figure size 1200x600 with 1 Axes>"
      ]
     },
     "metadata": {},
     "output_type": "display_data"
    }
   ],
   "source": [
    "# посмотрим как это выглядит на boxplot\n",
    "sns.set(style='darkgrid', rc={'figure.figsize' : (12,6)})\n",
    "sns.boxplot(y='total_price', x='group', data = users_orders_upd)\n",
    "plt.show()"
   ]
  },
  {
   "cell_type": "markdown",
   "id": "2bcc052a",
   "metadata": {},
   "source": [
    "Анализ данных позволяет сделать вывод о том, что распределение в группах является асимметричным, что наглядно иллюстрируется на графике. Кроме того, наблюдается, что в тестовой группе значения центральной тенденции и изменчивости выше, чем в контрольной группе. На основании этих наблюдений можно предположить, что данные также обладают асимметрией."
   ]
  },
  {
   "cell_type": "code",
   "execution_count": 108,
   "id": "daf40221",
   "metadata": {},
   "outputs": [
    {
     "data": {
      "image/png": "[encoded data removed]",
      "text/plain": [
       "<Figure size 563.5x500 with 1 Axes>"
      ]
     },
     "metadata": {},
     "output_type": "display_data"
    }
   ],
   "source": [
    "# посмотрим на распределение данных\n",
    "sns.displot(data=users_orders_upd, x=\"total_products\", hue=\"group\")\n",
    "plt.show()"
   ]
  },
  {
   "cell_type": "markdown",
   "id": "40335ee9",
   "metadata": {},
   "source": [
    "Поскольку данные имеют ненормальное распределение, мы проведём анализ средних с использованием метода bootstrap. Это позволит нам увидеть, какие доверительные интервалы есть в группах и пересекаются ли они."
   ]
  },
  {
   "cell_type": "code",
   "execution_count": 111,
   "id": "bc9de626",
   "metadata": {},
   "outputs": [
    {
     "data": {
      "text/plain": [
       "BootstrapResult(confidence_interval=ConfidenceInterval(low=1123.2485236478828, high=1269.4466653430661), standard_error=36.74843165485387)"
      ]
     },
     "execution_count": 111,
     "metadata": {},
     "output_type": "execute_result"
    }
   ],
   "source": [
    "bootstrap((users_orders_upd.query('group == 0').total_price, ), np.mean)"
   ]
  },
  {
   "cell_type": "code",
   "execution_count": 112,
   "id": "6cc2e18c",
   "metadata": {},
   "outputs": [
    {
     "data": {
      "text/plain": [
       "BootstrapResult(confidence_interval=ConfidenceInterval(low=1769.0365887932749, high=1934.758396499129), standard_error=42.27694890899504)"
      ]
     },
     "execution_count": 112,
     "metadata": {},
     "output_type": "execute_result"
    }
   ],
   "source": [
    "bootstrap((users_orders_upd.query('group == 1').total_price, ), np.mean)"
   ]
  },
  {
   "cell_type": "markdown",
   "id": "8cde567e",
   "metadata": {},
   "source": [
    "Исходя из теста доверительные интервалы не пересекаются, что может говорить о статистически значимой разнице между группами по total_price.\n"
   ]
  },
  {
   "cell_type": "markdown",
   "id": "c68dd919",
   "metadata": {},
   "source": [
    "Посмотрим, какой доверительный интервал по другой метрике total_products"
   ]
  },
  {
   "cell_type": "code",
   "execution_count": 113,
   "id": "e69f3b67",
   "metadata": {},
   "outputs": [
    {
     "data": {
      "text/plain": [
       "BootstrapResult(confidence_interval=ConfidenceInterval(low=9.930097087378641, high=11.04939834207827), standard_error=0.286159858574294)"
      ]
     },
     "execution_count": 113,
     "metadata": {},
     "output_type": "execute_result"
    }
   ],
   "source": [
    "bootstrap((users_orders_upd.query('group == 0').total_products, ), np.mean)"
   ]
  },
  {
   "cell_type": "code",
   "execution_count": 114,
   "id": "eecb2128",
   "metadata": {},
   "outputs": [
    {
     "data": {
      "text/plain": [
       "BootstrapResult(confidence_interval=ConfidenceInterval(low=16.11354581673307, high=17.50796812749004), standard_error=0.35618295041393755)"
      ]
     },
     "execution_count": 114,
     "metadata": {},
     "output_type": "execute_result"
    }
   ],
   "source": [
    "bootstrap((users_orders_upd.query('group == 1').total_products, ), np.mean)"
   ]
  },
  {
   "cell_type": "markdown",
   "id": "37d29716",
   "metadata": {},
   "source": [
    "Аналогично, что и с total_price доверительные интервалы не пересекаются это также приводит статистически значимой разнице."
   ]
  },
  {
   "cell_type": "markdown",
   "id": "eeaa021c",
   "metadata": {},
   "source": [
    "Сделаем дополнительные тесты с помощью bootstrap, чтобы найти доверительные интервалы эффекта различия между группами. Bootstrap возвращает доверительный интервал средних значений, возьмем среднее из полученного доверительного интервала для каждой из групп и найдем их разницу."
   ]
  },
  {
   "cell_type": "code",
   "execution_count": 125,
   "id": "f41af57c",
   "metadata": {},
   "outputs": [],
   "source": [
    "diff_mean_total_price = []\n",
    "\n",
    "for i in range(500):\n",
    "    control_total_price_mean = stats.bootstrap((users_orders_upd.query('group==0').total_price, ), np.mean)\n",
    "    test_total_price_mean = stats.bootstrap((users_orders_upd.query('group==1').total_price, ), np.mean)\n",
    "\n",
    "    control_mean = np.mean([control_total_price_mean.confidence_interval[1], control_total_price_mean.confidence_interval[0]])\n",
    "    test_mean = np.mean([test_total_price_mean.confidence_interval[1], test_total_price_mean.confidence_interval[0]])\n",
    "\n",
    "    diff_mean_total_price.append(test_mean - control_mean)\n"
   ]
  },
  {
   "cell_type": "code",
   "execution_count": 126,
   "id": "ede4eee3",
   "metadata": {},
   "outputs": [
    {
     "data": {
      "image/png": "[encoded data removed]",
      "text/plain": [
       "<Figure size 500x500 with 1 Axes>"
      ]
     },
     "metadata": {},
     "output_type": "display_data"
    }
   ],
   "source": [
    "sns.displot(diff_mean_total_price)\n",
    "plt.show()"
   ]
  },
  {
   "cell_type": "code",
   "execution_count": 127,
   "id": "dbf83ca9",
   "metadata": {},
   "outputs": [
    {
     "data": {
      "text/plain": [
       "(655.8423816214504, 659.7718404034258)"
      ]
     },
     "execution_count": 127,
     "metadata": {},
     "output_type": "execute_result"
    }
   ],
   "source": [
    "# выведем 95% доверительного интервала для среднего значения разницы стоимости общей стоимости заказа между двумя группами.\n",
    "stats.t.interval(0.95, len(diff_mean_total_price) - 1, loc=np.mean(diff_mean_total_price))"
   ]
  },
  {
   "cell_type": "code",
   "execution_count": 131,
   "id": "bf5d5f5f",
   "metadata": {},
   "outputs": [],
   "source": [
    "# проделаем туже операцию, но только по кол-ву продуктов total_products.  \n",
    "diff_mean_total_products = []\n",
    "\n",
    "for i in range(500):\n",
    "    control_total_products_mean = stats.bootstrap((users_orders_upd.query('group == 0').total_products, ), np.mean)\n",
    "    test_total_products_mean = stats.bootstrap((users_orders_upd.query('group == 1').total_products, ), np.mean)\n",
    "\n",
    "    control_mean = np.mean([control_total_products_mean.confidence_interval[1], control_total_products_mean.confidence_interval[0]])\n",
    "    test_mean = np.mean([test_total_products_mean.confidence_interval[1], test_total_products_mean.confidence_interval[0]])\n",
    "\n",
    "    diff_mean_total_products.append(test_mean - control_mean)\n"
   ]
  },
  {
   "cell_type": "code",
   "execution_count": 132,
   "id": "c70e2860",
   "metadata": {},
   "outputs": [
    {
     "data": {
      "image/png": "[encoded data removed]",
      "text/plain": [
       "<Figure size 500x500 with 1 Axes>"
      ]
     },
     "metadata": {},
     "output_type": "display_data"
    }
   ],
   "source": [
    "sns.displot(diff_mean_total_products)\n",
    "plt.show()"
   ]
  },
  {
   "cell_type": "code",
   "execution_count": 133,
   "id": "793511e2",
   "metadata": {},
   "outputs": [
    {
     "data": {
      "text/plain": [
       "(4.361594627910298, 8.291053409885627)"
      ]
     },
     "execution_count": 133,
     "metadata": {},
     "output_type": "execute_result"
    }
   ],
   "source": [
    "stats.t.interval(0.95, len(diff_mean_total_products) - 1, loc=np.mean(diff_mean_total_products))"
   ]
  },
  {
   "cell_type": "markdown",
   "id": "70a14c6a",
   "metadata": {},
   "source": [
    "## Вывод\n",
    "\n",
    "На основании проведенного анализа данных A/B-теста можно сделать следующие выводы:\n",
    "\n",
    "- Средняя сумма заказа в тестовой группе, использующей новую систему рекомендаций товаров, увеличилась примерно на 658 условных единиц по сравнению с контрольной группой.\n",
    "\n",
    "- Среднее количество товаров в корзине пользователей тестовой группы возросло в среднем на 6 единиц по сравнению с контрольной группой.\n",
    "\n",
    "Результаты статистического анализа показывают, что разница между группами является статистически значимой. Это означает, что новая система рекомендаций товаров оказывает положительное влияние на поведение пользователей и эффективность продаж.\n",
    "\n",
    "Таким образом, на основании полученных данных и сделанных выводов, мы рекомендуем внедрить новую систему рекомендаций товаров для всех пользователей мобильного приложения. Это позволит увеличить средний чек, количество товаров в корзине и в целом повысить эффективность продаж.\n",
    "\n",
    "Внедрение системы рекомендаций также может способствовать улучшению пользовательского опыта, так как она помогает находить и открывать для пользователей новые интересные товары, соответствующие их предпочтениям.\n",
    "\n",
    "Рекомендую продолжить мониторинг ключевых метрик после полномасштабного внедрения системы рекомендаций, чтобы отслеживать долгосрочные эффекты и при необходимости вносить корректировки в алгоритмы рекомендаций."
   ]
  }
 ],
 "metadata": {
  "kernelspec": {
   "display_name": "Python 3 (ipykernel)",
   "language": "python",
   "name": "python3"
  },
  "language_info": {
   "codemirror_mode": {
    "name": "ipython",
    "version": 3
   },
   "file_extension": ".py",
   "mimetype": "text/x-python",
   "name": "python",
   "nbconvert_exporter": "python",
   "pygments_lexer": "ipython3",
   "version": "3.9.13"
  }
 },
 "nbformat": 4,
 "nbformat_minor": 5
}
